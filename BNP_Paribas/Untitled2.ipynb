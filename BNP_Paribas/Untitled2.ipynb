{
 "cells": [
  {
   "cell_type": "code",
   "execution_count": 7,
   "metadata": {
    "collapsed": false
   },
   "outputs": [],
   "source": [
    "#combining predictions so far\n",
    "import pandas as pd\n",
    "import numpy as np\n",
    "\n",
    "DATA_DIR = \"/Users/patrickkennedy/Desktop/Data_Science_MISC/Kaggle/BNP_Paribas/Predictions/\"\n",
    "\n",
    "pred1 = pd.read_csv(DATA_DIR + \"ada_boosted_extra_trees_jitteredrandomstate_250iterations.csv\")\n",
    "pred2 = pd.read_csv(DATA_DIR + \"extra_trees_and_log_and_gradientboost_jitteredrandomstate_295iterations.csv\")\n",
    "pred3 = pd.read_csv(DATA_DIR + \"extra_trees_classifier_jitteredrandomstate_1000iterations_engineeredfeatures.csv\")\n",
    "pred4 = pd.read_csv(DATA_DIR + \"extra_trees_jitteredrandomstate_250iterations.csv\")\n",
    "pred5 = pd.read_csv(DATA_DIR + \"extra_trees_jitteredrandomstate_5000iterations.csv\")\n",
    "pred6 = pd.read_csv(DATA_DIR + \"XGBClassifier_jitteredrandomstate_250iterations.csv\")\n",
    "\n",
    "pred_list = [pred1, pred2, pred3, pred4, pred5, pred6]\n",
    "ids = pred1.ID"
   ]
  },
  {
   "cell_type": "code",
   "execution_count": 13,
   "metadata": {
    "collapsed": false
   },
   "outputs": [],
   "source": [
    "predictions = []\n",
    "for pred in pred_list:\n",
    "    predictions.append(pred.PredictedProb)"
   ]
  },
  {
   "cell_type": "code",
   "execution_count": 14,
   "metadata": {
    "collapsed": false
   },
   "outputs": [],
   "source": [
    "pd.DataFrame({\"ID\": ids, \"PredictedProb\": np.mean(predictions, axis=0)}).to_csv('Results_of_6_models.csv',index=False)"
   ]
  },
  {
   "cell_type": "code",
   "execution_count": 15,
   "metadata": {
    "collapsed": false
   },
   "outputs": [
    {
     "data": {
      "text/plain": [
       "array([ 0.48453123,  0.83475853,  0.76699871, ...,  0.84827262,\n",
       "        0.90073783,  0.59983055])"
      ]
     },
     "execution_count": 15,
     "metadata": {},
     "output_type": "execute_result"
    }
   ],
   "source": [
    "np.mean(predictions, axis=0)"
   ]
  },
  {
   "cell_type": "code",
   "execution_count": null,
   "metadata": {
    "collapsed": true
   },
   "outputs": [],
   "source": []
  }
 ],
 "metadata": {
  "kernelspec": {
   "display_name": "Python 2",
   "language": "python",
   "name": "python2"
  },
  "language_info": {
   "codemirror_mode": {
    "name": "ipython",
    "version": 2
   },
   "file_extension": ".py",
   "mimetype": "text/x-python",
   "name": "python",
   "nbconvert_exporter": "python",
   "pygments_lexer": "ipython2",
   "version": "2.7.11"
  }
 },
 "nbformat": 4,
 "nbformat_minor": 0
}
