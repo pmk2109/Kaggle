{
 "cells": [
  {
   "cell_type": "code",
   "execution_count": 1,
   "metadata": {
    "collapsed": false
   },
   "outputs": [],
   "source": [
    "import pandas as pd\n",
    "import numpy as np\n",
    "DATA_DIR = \"/Users/patrickkennedy/Desktop/Data_Science_MISC/Kaggle\"\n",
    "train = pd.read_csv(DATA_DIR + \"/BNP_Paribas/train.csv\")\n",
    "test = pd.read_csv(DATA_DIR + \"/BNP_Paribas/test.csv\")\n",
    "all_data = pd.concat([train, test], axis=0)\n",
    "all_data = all_data.reset_index()\n",
    "pd.set_option('display.max_columns', None)\n",
    "foo = lambda x: pd.Series([i for i in reversed(list(str(x)))])\n",
    "v22 = all_data['v22'].apply(foo)\n",
    "v22.rename(columns={0:'v22-0',1:'v22-1',2:'v22-2', 3:'v22-3'},inplace=True)\n",
    "v22 = v22.replace(to_replace='[a-z]', value=-1, regex=True)\n",
    "\n",
    "v56 = all_data['v56'].apply(foo)\n",
    "v56.rename(columns={0:'v56-0',1:'v56-1',2:'v56-2'},inplace=True)\n",
    "v56 = v56.replace(to_replace='[a-z]', value=-1, regex=True)\n",
    "\n",
    "v125 = all_data['v125'].apply(foo)\n",
    "v125.rename(columns={0:'v125-0',1:'v125-1',2:'v125-2'},inplace=True)\n",
    "v125 = v125.replace(to_replace='[a-z]', value=-1, regex=True)\n",
    "data = pd.concat([all_data, v22, v56, v125], axis=1)\n",
    "data = data.drop(['v22', 'v56', 'v125'], axis=1)\n",
    "\n",
    "data.fillna(-1, inplace=True)\n",
    "\n",
    "categorical = []\n",
    "\n",
    "for col in data.columns:\n",
    "    s = str(data[col][0])\n",
    "    d = str(data[col][1])\n",
    "    f = str(data[col][2])\n",
    "    g = str(data[col][3])\n",
    "    h = str(data[col][4])\n",
    "    try:\n",
    "        float(s)\n",
    "        float(d)\n",
    "        float(f)\n",
    "        float(g)\n",
    "        float(h)\n",
    "        \n",
    "    except ValueError:\n",
    "        categorical.append(col)\n",
    "\n",
    "for cat in categorical:\n",
    "    data[cat] = pd.factorize(data[cat])[0]\n",
    "    \n",
    "data['mean'] = data.mean(axis=1)\n",
    "data['max'] = data.max(axis=1)\n",
    "data['min'] = data.min(axis=1)\n",
    "data['sum'] = data.sum(axis=1)\n"
   ]
  },
  {
   "cell_type": "code",
   "execution_count": 12,
   "metadata": {
    "collapsed": false
   },
   "outputs": [
    {
     "name": "stdout",
     "output_type": "stream",
     "text": [
      "4683 1 []\n",
      "9105 2 [4683]\n",
      "8626 3 [4683, 9105]\n",
      "5041 4 [4683, 9105, 8626]\n",
      "7094 5 [4683, 9105, 8626, 5041]\n",
      "1339 6 [4683, 9105, 8626, 5041, 7094]\n",
      "6278 7 [4683, 9105, 8626, 5041, 7094, 1339]\n",
      "6116 8 [4683, 9105, 8626, 5041, 7094, 1339, 6278]\n",
      "9391 9 [4683, 9105, 8626, 5041, 7094, 1339, 6278, 6116]\n",
      "3014 10 [4683, 9105, 8626, 5041, 7094, 1339, 6278, 6116, 9391]\n"
     ]
    }
   ],
   "source": [
    "import pandas as pd\n",
    "import numpy as np\n",
    "import csv\n",
    "from sklearn.tree import DecisionTreeClassifier\n",
    "from sklearn.ensemble import ExtraTreesClassifier, AdaBoostClassifier, GradientBoostingClassifier\n",
    "from sklearn import ensemble\n",
    "from sklearn.cross_validation import train_test_split\n",
    "from sklearn.metrics import log_loss\n",
    "from sklearn.linear_model import LogisticRegression\n",
    "import random\n",
    "from xgboost import XGBClassifier\n",
    "from sknn.mlp import Classifier, Layer\n",
    "from sklearn.pipeline import Pipeline\n",
    "from sklearn.preprocessing import MinMaxScaler\n",
    "\n",
    "#print('Load data...')\n",
    "train = data[data[\"target\"]>=0]\n",
    "test = data[data[\"target\"]<0]\n",
    "\n",
    "cols_to_drop = ['ID', 'index', 'target']\n",
    "target = train['target'].values\n",
    "train = train.drop(cols_to_drop, axis=1)\n",
    "id_test = test['ID'].values\n",
    "test = test.drop(['ID', 'index', 'target'],axis=1)\n",
    "\n",
    "y_pred = []\n",
    "holder = []\n",
    "\n",
    "#X_train, X_test, y_train, y_test = train_test_split(train, target, test_size=0.33, random_state=42)\n",
    "\n",
    "for i in range(10):\n",
    "    \n",
    "    dummy = random.randint(1,10000)\n",
    "    x = True\n",
    "    while x == True:\n",
    "        print dummy, str(len(holder)+1), holder\n",
    "        #print holder\n",
    "        if dummy in holder:\n",
    "            dummy = random.randint(1,10000)\n",
    "        else:\n",
    "            x = False\n",
    "    holder.append(dummy)\n",
    "    \n",
    "    random.seed(dummy)\n",
    "\n",
    "    pipeline = Pipeline([\n",
    "        ('min/max scaler', MinMaxScaler(feature_range=(-1.0, 1.0))),\n",
    "        ('neural network', Classifier(layers=[Layer(\"Rectifier\", units=100),\n",
    "                                              Layer(\"Tanh\", units=100),\n",
    "                                              Layer(\"Softmax\")], \n",
    "                                      n_iter=5))])\n",
    "    \n",
    "    pipeline.fit(train.as_matrix(), target)\n",
    "    y_pred.append(pipeline.predict_proba(test.as_matrix())[:,1])\n",
    "    \n",
    "pd.DataFrame({\"ID\": id_test, \"PredictedProb\": np.mean(y_pred, axis=0)}).to_csv('NN-sigmoid64-softmax_jitteredrandomstate_10iterations_engineeredfeatures.csv',index=False)"
   ]
  },
  {
   "cell_type": "code",
   "execution_count": 13,
   "metadata": {
    "collapsed": false
   },
   "outputs": [],
   "source": [
    "#check y_pred! (all the same??)"
   ]
  },
  {
   "cell_type": "code",
   "execution_count": null,
   "metadata": {
    "collapsed": false
   },
   "outputs": [],
   "source": []
  },
  {
   "cell_type": "code",
   "execution_count": null,
   "metadata": {
    "collapsed": false
   },
   "outputs": [],
   "source": []
  },
  {
   "cell_type": "code",
   "execution_count": null,
   "metadata": {
    "collapsed": true
   },
   "outputs": [],
   "source": []
  }
 ],
 "metadata": {
  "kernelspec": {
   "display_name": "Python 2",
   "language": "python",
   "name": "python2"
  },
  "language_info": {
   "codemirror_mode": {
    "name": "ipython",
    "version": 2
   },
   "file_extension": ".py",
   "mimetype": "text/x-python",
   "name": "python",
   "nbconvert_exporter": "python",
   "pygments_lexer": "ipython2",
   "version": "2.7.11"
  }
 },
 "nbformat": 4,
 "nbformat_minor": 0
}
