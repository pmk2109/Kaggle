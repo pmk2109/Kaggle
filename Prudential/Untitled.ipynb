{
 "cells": [
  {
   "cell_type": "code",
   "execution_count": 51,
   "metadata": {
    "collapsed": false
   },
   "outputs": [],
   "source": [
    "def count_words(s, n):\n",
    "    \"\"\"Return the n most frequently occuring words in s.\"\"\"\n",
    "    \n",
    "    # TODO: Count the number of occurences of each word in s\n",
    "    s_list = s.split(\" \")\n",
    "    s_dict = {}\n",
    "    for i in s_list:\n",
    "        if i in s_dict:\n",
    "            s_dict[i]+=1\n",
    "        else:\n",
    "            s_dict[i]=1\n",
    "            \n",
    "    # TODO: Sort the occurences in descending order (alphabetically in case of ties)\n",
    "    top_n = sorted(s_dict.items(), key=lambda x: (-x[1], x[0]))[:n]\n",
    "    # TODO: Return the top n words as a list of tuples (<word>, <count>)\n",
    "    return top_n\n",
    "\n",
    "\n",
    "def test_run():\n",
    "    \"\"\"Test count_words() with some inputs.\"\"\"\n",
    "    print count_words(\"cat bat mat cat bat cat\", 3)\n",
    "    print count_words(\"betty bought a bit of butter but the butter was bitter\", 3)\n",
    "\n"
   ]
  },
  {
   "cell_type": "code",
   "execution_count": 52,
   "metadata": {
    "collapsed": true
   },
   "outputs": [],
   "source": [
    "s = \"cat bat mat cat bat cat\"\n",
    "w = \"betty bought a bit of butter but the butter was bitter\""
   ]
  },
  {
   "cell_type": "code",
   "execution_count": 53,
   "metadata": {
    "collapsed": false
   },
   "outputs": [
    {
     "data": {
      "text/plain": [
       "[('butter', 2), ('a', 1)]"
      ]
     },
     "execution_count": 53,
     "metadata": {},
     "output_type": "execute_result"
    }
   ],
   "source": [
    "count_words(w, 2)"
   ]
  },
  {
   "cell_type": "code",
   "execution_count": null,
   "metadata": {
    "collapsed": true
   },
   "outputs": [],
   "source": []
  },
  {
   "cell_type": "code",
   "execution_count": null,
   "metadata": {
    "collapsed": true
   },
   "outputs": [],
   "source": []
  }
 ],
 "metadata": {
  "kernelspec": {
   "display_name": "Python 2",
   "language": "python",
   "name": "python2"
  },
  "language_info": {
   "codemirror_mode": {
    "name": "ipython",
    "version": 2
   },
   "file_extension": ".py",
   "mimetype": "text/x-python",
   "name": "python",
   "nbconvert_exporter": "python",
   "pygments_lexer": "ipython2",
   "version": "2.7.10"
  }
 },
 "nbformat": 4,
 "nbformat_minor": 0
}
