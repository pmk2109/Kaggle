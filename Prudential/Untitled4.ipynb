{
 "cells": [
  {
   "cell_type": "code",
   "execution_count": 17,
   "metadata": {
    "collapsed": false
   },
   "outputs": [
    {
     "data": {
      "text/plain": [
       "1.0"
      ]
     },
     "execution_count": 17,
     "metadata": {},
     "output_type": "execute_result"
    }
   ],
   "source": [
    "from xgboost import XGBClassifier, XGBRegressor\n",
    "from sklearn import datasets\n",
    "from sklearn.cross_validation import train_test_split\n",
    "\n",
    "iris = datasets.load_iris()\n",
    "\n",
    "X = iris.data\n",
    "y = iris.target\n",
    "\n",
    "X_train, X_test, y_train, y_test = train_test_split(X, y, test_size=0.1, random_state=42)\n",
    "\n",
    "model = XGBClassifier()\n",
    "model.fit(X_train, y_train)\n",
    "model.predict(X_test)\n",
    "\n",
    "model.score(X_test, y_test)"
   ]
  },
  {
   "cell_type": "code",
   "execution_count": 16,
   "metadata": {
    "collapsed": false
   },
   "outputs": [
    {
     "name": "stdout",
     "output_type": "stream",
     "text": [
      "[('colsample_bytree', 0.53), ('silent', 1), ('max_delta_step', 2.08), ('min_child_weight', 87.44), ('subsample', 0.16), ('eta', 0.01), ('objective', 'reg:linear'), ('max_depth', 9), ('gamma', 0.88)]\n",
      "[ 0.5  0.5  0.5  0.5  0.5  0.5  0.5  0.5  0.5  0.5  0.5  0.5  0.5  0.5  0.5\n",
      "  0.5  0.5  0.5  0.5  0.5  0.5  0.5  0.5  0.5  0.5  0.5  0.5  0.5  0.5  0.5\n",
      "  0.5  0.5  0.5  0.5  0.5  0.5  0.5  0.5  0.5  0.5  0.5  0.5  0.5  0.5  0.5\n",
      "  0.5  0.5  0.5  0.5  0.5  0.5]\n"
     ]
    }
   ],
   "source": [
    "import matplotlib.pyplot as plt\n",
    "import xgboost as xgb\n",
    "import pandas as pd\n",
    "\n",
    "def get_params():\n",
    "    \n",
    "    params = {}\n",
    "    params[\"objective\"] = \"reg:linear\"     \n",
    "    params[\"eta\"] = 0.01\n",
    "    params[\"gamma\"] = 0.88\n",
    "    params[\"max_delta_step\"] = 2.08\n",
    "    params[\"min_child_weight\"] = 87.44\n",
    "    params[\"subsample\"] = 0.16\n",
    "    params[\"colsample_bytree\"] = 0.53\n",
    "    params[\"silent\"] = 1\n",
    "    params[\"max_depth\"] = 9\n",
    "    #params[\"num_class\"] = 18\n",
    "    plst = list(params.items())\n",
    "\n",
    "    return plst\n",
    "\n",
    "iris = datasets.load_iris()\n",
    "boston = datasets.load_boston()\n",
    "\n",
    "X = boston.data\n",
    "y = boston.target\n",
    "\n",
    "all_data = pd.DataFrame(X, columns=['1','2','3','4','5','6','7','8','9','10','11','12','13'])\n",
    "all_data['Target'] = y\n",
    "\n",
    "X_train, X_test, y_train, y_test = train_test_split(all_data.drop('Target',axis=1), all_data['Target'], test_size=0.1, random_state=42)\n",
    "\n",
    "\n",
    "#X_train_df = pd.DataFrame(X_train, columns=cols)\n",
    "#X_test_df = pd.DataFrame(X_test, columns=cols)\n",
    "\n",
    "xgtrain = xgb.DMatrix(X_train, y_train)\n",
    "xgtest = xgb.DMatrix(X_test, label=y_test)\n",
    "\n",
    "params = get_params()\n",
    "print params\n",
    "\n",
    "num_rounds = 5\n",
    "\n",
    "model = xgb.train(params, xgtrain, num_rounds)\n",
    "\n",
    "preds = model.predict(xgtest, ntree_limit=model.best_iteration)\n",
    "\n",
    "\n",
    "#xgb.plot_importance(model)"
   ]
  },
  {
   "cell_type": "code",
   "execution_count": 61,
   "metadata": {
    "collapsed": false
   },
   "outputs": [
    {
     "data": {
      "text/plain": [
       "173    23.6\n",
       "274    32.4\n",
       "491    13.6\n",
       "72     22.8\n",
       "452    16.1\n",
       "76     20.0\n",
       "316    17.8\n",
       "140    14.0\n",
       "471    19.6\n",
       "500    16.8\n",
       "218    21.5\n",
       "9      18.9\n",
       "414     7.0\n",
       "78     21.2\n",
       "323    18.5\n",
       "473    29.8\n",
       "124    18.8\n",
       "388    10.2\n",
       "195    50.0\n",
       "448    14.1\n",
       "271    25.2\n",
       "278    29.1\n",
       "30     12.7\n",
       "501    22.4\n",
       "421    14.2\n",
       "474    13.8\n",
       "79     20.3\n",
       "454    14.9\n",
       "210    21.7\n",
       "497    18.3\n",
       "172    23.1\n",
       "320    23.8\n",
       "375    15.0\n",
       "362    20.8\n",
       "467    19.1\n",
       "153    19.4\n",
       "2      34.7\n",
       "336    19.5\n",
       "208    24.4\n",
       "73     23.4\n",
       "496    19.7\n",
       "307    28.2\n",
       "204    50.0\n",
       "68     17.4\n",
       "90     22.6\n",
       "390    15.1\n",
       "33     13.1\n",
       "70     24.2\n",
       "470    19.9\n",
       "0      24.0\n",
       "11     18.9\n",
       "Name: Target, dtype: float64"
      ]
     },
     "execution_count": 61,
     "metadata": {},
     "output_type": "execute_result"
    }
   ],
   "source": [
    "y_test# == X_test_df.columns"
   ]
  },
  {
   "cell_type": "code",
   "execution_count": null,
   "metadata": {
    "collapsed": false
   },
   "outputs": [],
   "source": []
  },
  {
   "cell_type": "code",
   "execution_count": null,
   "metadata": {
    "collapsed": false
   },
   "outputs": [],
   "source": [
    "  "
   ]
  },
  {
   "cell_type": "code",
   "execution_count": null,
   "metadata": {
    "collapsed": true
   },
   "outputs": [],
   "source": []
  }
 ],
 "metadata": {
  "kernelspec": {
   "display_name": "Python 2",
   "language": "python",
   "name": "python2"
  },
  "language_info": {
   "codemirror_mode": {
    "name": "ipython",
    "version": 2
   },
   "file_extension": ".py",
   "mimetype": "text/x-python",
   "name": "python",
   "nbconvert_exporter": "python",
   "pygments_lexer": "ipython2",
   "version": "2.7.11"
  }
 },
 "nbformat": 4,
 "nbformat_minor": 0
}
